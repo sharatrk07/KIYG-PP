{
 "cells": [
  {
   "cell_type": "markdown",
   "id": "a147d1d7",
   "metadata": {},
   "source": [
    "## 1. Read the Dataset"
   ]
  },
  {
   "cell_type": "code",
   "execution_count": 1,
   "id": "01005e7f-945c-4ed2-a98e-e7acfb3ef533",
   "metadata": {},
   "outputs": [
    {
     "data": {
      "text/html": [
       "<div>\n",
       "<style scoped>\n",
       "    .dataframe tbody tr th:only-of-type {\n",
       "        vertical-align: middle;\n",
       "    }\n",
       "\n",
       "    .dataframe tbody tr th {\n",
       "        vertical-align: top;\n",
       "    }\n",
       "\n",
       "    .dataframe thead th {\n",
       "        text-align: right;\n",
       "    }\n",
       "</style>\n",
       "<table border=\"1\" class=\"dataframe\">\n",
       "  <thead>\n",
       "    <tr style=\"text-align: right;\">\n",
       "      <th></th>\n",
       "      <th>S.no.</th>\n",
       "      <th>First Name</th>\n",
       "      <th>Sport Name</th>\n",
       "      <th>Event Name</th>\n",
       "      <th>Certification Number</th>\n",
       "      <th>State Name</th>\n",
       "      <th>Position</th>\n",
       "      <th>KID.</th>\n",
       "      <th>Category</th>\n",
       "    </tr>\n",
       "  </thead>\n",
       "  <tbody>\n",
       "    <tr>\n",
       "      <th>0</th>\n",
       "      <td>1</td>\n",
       "      <td>Eklavya jagal</td>\n",
       "      <td>Ice Skating</td>\n",
       "      <td>Speed Skating Short Trach 300mtr (Under 17)</td>\n",
       "      <td>KIWG2024/W/A/1</td>\n",
       "      <td>Uttar Pradesh</td>\n",
       "      <td>FIRST</td>\n",
       "      <td>SSAA015M07</td>\n",
       "      <td>Boys</td>\n",
       "    </tr>\n",
       "    <tr>\n",
       "      <th>1</th>\n",
       "      <td>2</td>\n",
       "      <td>Aarav Aniruddha Patwardhan</td>\n",
       "      <td>Ice Skating</td>\n",
       "      <td>Speed Skating Short Trach 300mtr (Under 17)</td>\n",
       "      <td>KIWG2024/W/A/2</td>\n",
       "      <td>Maharashtra</td>\n",
       "      <td>SECOND</td>\n",
       "      <td>SSAA000M09</td>\n",
       "      <td>Boys</td>\n",
       "    </tr>\n",
       "    <tr>\n",
       "      <th>2</th>\n",
       "      <td>3</td>\n",
       "      <td>ADVAY NOOPUR KOTHARI</td>\n",
       "      <td>Ice Skating</td>\n",
       "      <td>Speed Skating Short Trach 300mtr (Under 17)</td>\n",
       "      <td>KIWG2024/W/A/3</td>\n",
       "      <td>Maharashtra</td>\n",
       "      <td>THIRD</td>\n",
       "      <td>SSAA001M09</td>\n",
       "      <td>Boys</td>\n",
       "    </tr>\n",
       "    <tr>\n",
       "      <th>3</th>\n",
       "      <td>4</td>\n",
       "      <td>AKASH ARADHYA</td>\n",
       "      <td>Ice Skating</td>\n",
       "      <td>Speed Skating Short Trach 300mtr (Above 17)</td>\n",
       "      <td>KIWG2024/W/A/4</td>\n",
       "      <td>Karnataka</td>\n",
       "      <td>FIRST</td>\n",
       "      <td>SSAA000M93</td>\n",
       "      <td>Boys</td>\n",
       "    </tr>\n",
       "    <tr>\n",
       "      <th>4</th>\n",
       "      <td>5</td>\n",
       "      <td>Suyog Sanjay Tapkir</td>\n",
       "      <td>Ice Skating</td>\n",
       "      <td>Speed Skating Short Trach 300mtr (Above 17)</td>\n",
       "      <td>KIWG2024/W/A/5</td>\n",
       "      <td>Maharashtra</td>\n",
       "      <td>SECOND</td>\n",
       "      <td>SSAA001M97</td>\n",
       "      <td>Boys</td>\n",
       "    </tr>\n",
       "  </tbody>\n",
       "</table>\n",
       "</div>"
      ],
      "text/plain": [
       "   S.no.                  First Name   Sport Name  \\\n",
       "0      1               Eklavya jagal  Ice Skating   \n",
       "1      2  Aarav Aniruddha Patwardhan  Ice Skating   \n",
       "2      3        ADVAY NOOPUR KOTHARI  Ice Skating   \n",
       "3      4               AKASH ARADHYA  Ice Skating   \n",
       "4      5         Suyog Sanjay Tapkir  Ice Skating   \n",
       "\n",
       "                                    Event Name Certification Number  \\\n",
       "0  Speed Skating Short Trach 300mtr (Under 17)       KIWG2024/W/A/1   \n",
       "1  Speed Skating Short Trach 300mtr (Under 17)       KIWG2024/W/A/2   \n",
       "2  Speed Skating Short Trach 300mtr (Under 17)       KIWG2024/W/A/3   \n",
       "3  Speed Skating Short Trach 300mtr (Above 17)       KIWG2024/W/A/4   \n",
       "4  Speed Skating Short Trach 300mtr (Above 17)       KIWG2024/W/A/5   \n",
       "\n",
       "      State Name Position        KID. Category  \n",
       "0  Uttar Pradesh    FIRST  SSAA015M07     Boys  \n",
       "1    Maharashtra   SECOND  SSAA000M09     Boys  \n",
       "2    Maharashtra    THIRD  SSAA001M09     Boys  \n",
       "3      Karnataka    FIRST  SSAA000M93     Boys  \n",
       "4    Maharashtra   SECOND  SSAA001M97     Boys  "
      ]
     },
     "execution_count": 1,
     "metadata": {},
     "output_type": "execute_result"
    }
   ],
   "source": [
    "import pandas as pd\n",
    "\n",
    "# Load the dataset\n",
    "data = pd.read_csv('OLYMP-FINAL.csv', sep=';')\n",
    "data.head()"
   ]
  },
  {
   "cell_type": "markdown",
   "id": "112d6c4f",
   "metadata": {},
   "source": [
    "## 2. Exploratory Data Analysis"
   ]
  },
  {
   "cell_type": "code",
   "execution_count": 2,
   "id": "5c612806-3c82-4f04-b0c3-54f8fc37dfb5",
   "metadata": {},
   "outputs": [
    {
     "name": "stdout",
     "output_type": "stream",
     "text": [
      "<class 'pandas.core.frame.DataFrame'>\n",
      "RangeIndex: 296 entries, 0 to 295\n",
      "Data columns (total 9 columns):\n",
      " #   Column                Non-Null Count  Dtype \n",
      "---  ------                --------------  ----- \n",
      " 0   S.no.                 296 non-null    int64 \n",
      " 1   First Name            296 non-null    object\n",
      " 2   Sport Name            296 non-null    object\n",
      " 3   Event Name            296 non-null    object\n",
      " 4   Certification Number  296 non-null    object\n",
      " 5   State Name            296 non-null    object\n",
      " 6   Position              296 non-null    object\n",
      " 7   KID.                  296 non-null    object\n",
      " 8   Category              296 non-null    object\n",
      "dtypes: int64(1), object(8)\n",
      "memory usage: 20.9+ KB\n",
      "None\n",
      "            S.no.\n",
      "count  296.000000\n",
      "mean   148.500000\n",
      "std     85.592056\n",
      "min      1.000000\n",
      "25%     74.750000\n",
      "50%    148.500000\n",
      "75%    222.250000\n",
      "max    296.000000\n"
     ]
    },
    {
     "data": {
      "image/png": "[encoded data removed]",
      "text/plain": [
       "<Figure size 1000x600 with 1 Axes>"
      ]
     },
     "metadata": {},
     "output_type": "display_data"
    }
   ],
   "source": [
    "import matplotlib.pyplot as plt\n",
    "import seaborn as sns\n",
    "\n",
    "# Display basic info and statistics\n",
    "print(data.info())\n",
    "print(data.describe())\n",
    "\n",
    "# Countplot for positions\n",
    "plt.figure(figsize=(10,6))\n",
    "sns.countplot(x='Position', data=data)\n",
    "plt.title('Distribution of Positions')\n",
    "plt.show()"
   ]
  },
  {
   "cell_type": "markdown",
   "id": "744d5c72",
   "metadata": {},
   "source": [
    "## 3. Preprocess the data"
   ]
  },
  {
   "cell_type": "code",
   "execution_count": 3,
   "id": "e2e51297-1c91-4fb5-a9ce-624d8f8f20e6",
   "metadata": {},
   "outputs": [],
   "source": [
    "from sklearn.preprocessing import OneHotEncoder\n",
    "from sklearn.compose import ColumnTransformer\n",
    "\n",
    "position_mapping = {\n",
    "    'FIRST': 1,\n",
    "    'SECOND': 2,\n",
    "    'THIRD': 3\n",
    "}\n",
    "\n",
    "X = data[['Sport Name', 'Event Name', 'State Name', 'Category']]\n",
    "y = data['Position'].map(position_mapping)\n",
    "\n",
    "preprocessor = ColumnTransformer(\n",
    "    transformers=[\n",
    "        ('cat', OneHotEncoder(), ['Sport Name', 'Event Name', 'State Name', 'Category'])\n",
    "    ]\n",
    ")"
   ]
  },
  {
   "cell_type": "markdown",
   "id": "2fcfdc10",
   "metadata": {},
   "source": [
    "## 4. Split into Train and Test"
   ]
  },
  {
   "cell_type": "code",
   "execution_count": 4,
   "id": "5a71d104",
   "metadata": {},
   "outputs": [],
   "source": [
    "from sklearn.model_selection import train_test_split\n",
    "\n",
    "X_train, X_test, y_train, y_test = train_test_split(X, y, test_size=0.2, random_state=42)"
   ]
  },
  {
   "cell_type": "markdown",
   "id": "3106fcb4",
   "metadata": {},
   "source": [
    "## 5. Build the model"
   ]
  },
  {
   "cell_type": "code",
   "execution_count": 5,
   "id": "862068b5",
   "metadata": {},
   "outputs": [],
   "source": [
    "# Pipeline is a sequence of steps that automates data preprocessing and model training in a consistent way\n",
    "from sklearn.pipeline import Pipeline\n",
    "from sklearn.ensemble import RandomForestClassifier\n",
    "from sklearn.svm import SVC\n",
    "from sklearn.neighbors import KNeighborsClassifier\n",
    "from sklearn.linear_model import LogisticRegression\n",
    "\n",
    "# Define different models\n",
    "models = {\n",
    "    'Random Forest': Pipeline(steps=[\n",
    "        ('preprocessor', preprocessor),\n",
    "        ('classifier', RandomForestClassifier(n_estimators=100, random_state=42))\n",
    "    ]),\n",
    "    'SVM': Pipeline(steps=[\n",
    "        ('preprocessor', preprocessor),\n",
    "        ('classifier', SVC(probability=True, kernel='linear'))\n",
    "    ]),\n",
    "    'KNN': Pipeline(steps=[\n",
    "        ('preprocessor', preprocessor),\n",
    "        ('classifier', KNeighborsClassifier(n_neighbors=5))\n",
    "    ]),\n",
    "    'Logistic Regression': Pipeline(steps=[\n",
    "        ('preprocessor', preprocessor),\n",
    "        ('classifier', LogisticRegression(max_iter=1000))\n",
    "    ])\n",
    "}"
   ]
  },
  {
   "cell_type": "markdown",
   "id": "708a53eb",
   "metadata": {},
   "source": [
    "## 6. Train the models"
   ]
  },
  {
   "cell_type": "code",
   "execution_count": 6,
   "id": "3eb4031b",
   "metadata": {},
   "outputs": [
    {
     "name": "stdout",
     "output_type": "stream",
     "text": [
      "Model accuracies:\n",
      "Random Forest: 75.00%\n",
      "SVM: 70.00%\n",
      "KNN: 70.00%\n",
      "Logistic Regression: 75.00%\n",
      "Best model selected: RandomForestClassifier with accuracy: 75.00%\n"
     ]
    },
    {
     "data": {
      "image/png": "[encoded data removed]",
      "text/plain": [
       "<Figure size 1000x600 with 1 Axes>"
      ]
     },
     "metadata": {},
     "output_type": "display_data"
    },
    {
     "data": {
      "image/png": "[encoded data removed]",
      "text/plain": [
       "<Figure size 800x600 with 1 Axes>"
      ]
     },
     "metadata": {},
     "output_type": "display_data"
    }
   ],
   "source": [
    "import matplotlib.pyplot as plt\n",
    "import seaborn as sns\n",
    "from sklearn.metrics import accuracy_score\n",
    "\n",
    "best_model = None\n",
    "best_accuracy = 0\n",
    "results = {}\n",
    "\n",
    "# Training models and storing accuracy\n",
    "for name, model in models.items():\n",
    "    model.fit(X_train, y_train)\n",
    "    y_pred = model.predict(X_test)\n",
    "    accuracy = accuracy_score(y_test, y_pred)\n",
    "    results[name] = accuracy * 100\n",
    "    if accuracy > best_accuracy:\n",
    "        best_accuracy = accuracy\n",
    "        best_model = model\n",
    "\n",
    "# Print model accuracies\n",
    "print(\"Model accuracies:\")\n",
    "for name, accuracy in results.items():\n",
    "    print(f'{name}: {accuracy:.2f}%')\n",
    "\n",
    "# Print best model selected\n",
    "print(f'Best model selected: {best_model.named_steps[\"classifier\"].__class__.__name__} with accuracy: {best_accuracy * 100:.2f}%')\n",
    "\n",
    "# Plotting accuracy diagram for each model\n",
    "plt.figure(figsize=(10, 6))\n",
    "sns.barplot(x=list(results.keys()), y=list(results.values()), hue=list(results.keys()), legend=False)\n",
    "plt.title('Model Accuracy Comparison')\n",
    "plt.xlabel('Models')\n",
    "plt.ylabel('Accuracy (%)')\n",
    "plt.ylim(0, 100)\n",
    "plt.show()\n",
    "\n",
    "# Accuracy distribution of the best model\n",
    "y_pred_best = best_model.predict(X_test)\n",
    "plt.figure(figsize=(8, 6))\n",
    "sns.histplot(y_pred_best, kde=True, color='green')      # Kernel Density Estimate\n",
    "plt.title(f'Distribution of Predictions for Best Model: {best_model.named_steps[\"classifier\"].__class__.__name__}')\n",
    "plt.xlabel('Predicted Position')\n",
    "plt.show()"
   ]
  },
  {
   "cell_type": "markdown",
   "id": "b6ce8884",
   "metadata": {},
   "source": [
    "## 7. Test and Evaluate Models"
   ]
  },
  {
   "cell_type": "code",
   "execution_count": 7,
   "id": "89544dc1",
   "metadata": {},
   "outputs": [
    {
     "name": "stdout",
     "output_type": "stream",
     "text": [
      "Confusion Matrix:\n",
      " [[15  1  0]\n",
      " [ 2 11  4]\n",
      " [ 3  5 19]]\n",
      "Classification Report:\n",
      "               precision    recall  f1-score   support\n",
      "\n",
      "           1       0.75      0.94      0.83        16\n",
      "           2       0.65      0.65      0.65        17\n",
      "           3       0.83      0.70      0.76        27\n",
      "\n",
      "    accuracy                           0.75        60\n",
      "   macro avg       0.74      0.76      0.75        60\n",
      "weighted avg       0.76      0.75      0.75        60\n",
      "\n"
     ]
    }
   ],
   "source": [
    "from sklearn.metrics import confusion_matrix, classification_report\n",
    "\n",
    "y_pred_best = best_model.predict(X_test)\n",
    "conf_matrix = confusion_matrix(y_test, y_pred_best)\n",
    "class_report = classification_report(y_test, y_pred_best)\n",
    "\n",
    "print(\"Confusion Matrix:\\n\", conf_matrix)\n",
    "print(\"Classification Report:\\n\", class_report)\n",
    "\n",
    "# Precision: Correct positive predictions among all predicted positives.\n",
    "# Recall: Correct positive predictions among all actual positives.\n",
    "# F1-Score: mean of precision and recall\n",
    "# Support: The number of actual occurrences of each class in the dataset."
   ]
  },
  {
   "cell_type": "markdown",
   "id": "7146630c",
   "metadata": {},
   "source": [
    "## 8. Use the Model for Predicting the future data"
   ]
  },
  {
   "cell_type": "code",
   "execution_count": 9,
   "id": "a370ef17",
   "metadata": {},
   "outputs": [
    {
     "name": "stdout",
     "output_type": "stream",
     "text": [
      "Details for Eklavya jagal in the event Speed Skating Short Trach 300mtr (Under 17) are:\n",
      "First Name: Eklavya jagal\n",
      "Sport Name: Ice Skating\n",
      "Event Name: Speed Skating Short Trach 300mtr (Under 17)\n",
      "State Name: Uttar Pradesh\n",
      "Category: Boys\n",
      "Position: 1\n",
      "Winning percentage: 100.00%\n"
     ]
    }
   ],
   "source": [
    "import pandas as pd\n",
    "from sklearn.preprocessing import OneHotEncoder\n",
    "from sklearn.compose import ColumnTransformer\n",
    "from sklearn.pipeline import Pipeline\n",
    "from sklearn.ensemble import RandomForestClassifier\n",
    "from sklearn.model_selection import train_test_split\n",
    "\n",
    "data = pd.read_csv('/Users/sharatrk/Desktop/SEM~2/OLYMP PREDICTION/OLYMP-FINAL.csv', sep=';')\n",
    "position_mapping = {'FIRST': 1, 'SECOND': 2, 'THIRD': 3}\n",
    "\n",
    "X = data[['Sport Name', 'Event Name', 'State Name', 'Category']]\n",
    "y = data['Position'].map(position_mapping)\n",
    "\n",
    "preprocessor = ColumnTransformer(\n",
    "    transformers=[('cat', OneHotEncoder(), ['Sport Name', 'Event Name', 'State Name', 'Category'])]\n",
    ")\n",
    "pipeline = Pipeline(steps=[('preprocessor', preprocessor), ('classifier', RandomForestClassifier(n_estimators=100, random_state=42))])\n",
    "\n",
    "X_train, X_test, y_train, y_test = train_test_split(X, y, test_size=0.2, random_state=42)\n",
    "pipeline.fit(X_train, y_train)\n",
    "\n",
    "def get_player_details(player_name, event_name):\n",
    "    player_data = data[(data['First Name'] == player_name) & (data['Event Name'] == event_name)]\n",
    "    if player_data.empty:\n",
    "        return 'Please enter a valid player name or event name and try again', None\n",
    "    features = player_data[['Sport Name', 'Event Name', 'State Name', 'Category']]\n",
    "    features_transformed = pipeline.named_steps['preprocessor'].transform(features)\n",
    "    predicted_position_scaled = pipeline.named_steps['classifier'].predict(features_transformed)[0]\n",
    "    winning_percentage = max(0, min(100, 100 * (10 - predicted_position_scaled) / 9))\n",
    "    return {\n",
    "        'First Name': player_name,\n",
    "        'Sport Name': player_data['Sport Name'].values[0],\n",
    "        'Event Name': event_name,\n",
    "        'State Name': player_data['State Name'].values[0],\n",
    "        'Category': player_data['Category'].values[0],\n",
    "        'Position': predicted_position_scaled\n",
    "    }, winning_percentage\n",
    "\n",
    "player_name_input = input('Enter player name: ')\n",
    "event_name_input = input('Enter event name: ')\n",
    "details, winning_percentage = get_player_details(player_name_input, event_name_input)\n",
    "\n",
    "if isinstance(details, dict):\n",
    "    print(f\"Details for {player_name_input} in the event {event_name_input} are:\")\n",
    "    for key, value in details.items():\n",
    "        print(f\"{key}: {value}\")\n",
    "    print(f'Winning percentage: {winning_percentage:.2f}%')\n",
    "else:\n",
    "    print(details)"
   ]
  }
 ],
 "metadata": {
  "kernelspec": {
   "display_name": "Python 3 (ipykernel)",
   "language": "python",
   "name": "python3"
  },
  "language_info": {
   "codemirror_mode": {
    "name": "ipython",
    "version": 3
   },
   "file_extension": ".py",
   "mimetype": "text/x-python",
   "name": "python",
   "nbconvert_exporter": "python",
   "pygments_lexer": "ipython3",
   "version": "3.12.4"
  }
 },
 "nbformat": 4,
 "nbformat_minor": 5
}
